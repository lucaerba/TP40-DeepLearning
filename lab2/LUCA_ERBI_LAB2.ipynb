{
  "nbformat": 4,
  "nbformat_minor": 0,
  "metadata": {
    "colab": {
      "provenance": []
    },
    "kernelspec": {
      "name": "python3",
      "display_name": "Python 3"
    },
    "accelerator": "GPU"
  },
  "cells": [
    {
      "cell_type": "markdown",
      "metadata": {
        "id": "iafPdtuncbq7"
      },
      "source": [
        "<h2><center>MNIST classification using <i>LeNet5</i></center></h2>"
      ]
    },
    {
      "cell_type": "markdown",
      "metadata": {
        "id": "I4VrCB5La5rD"
      },
      "source": [
        "# Importing Keras\n",
        "\n"
      ]
    },
    {
      "cell_type": "code",
      "metadata": {
        "id": "OlKZ3Hnas7B4",
        "colab": {
          "base_uri": "https://localhost:8080/"
        },
        "outputId": "f58c3f85-e7a1-4d68-c150-b173c372330b"
      },
      "source": [
        "# Importing the Keras 2.x main module relying on tensorflow 2.x backend\n",
        "import tensorflow as tf\n",
        "import keras\n",
        "print(\"Using tensorflow version \" + str(tf.__version__))\n",
        "print(\"Using keras version \" + str(keras.__version__))"
      ],
      "execution_count": 1,
      "outputs": [
        {
          "output_type": "stream",
          "name": "stdout",
          "text": [
            "Using tensorflow version 2.14.0\n",
            "Using keras version 2.14.0\n"
          ]
        }
      ]
    },
    {
      "cell_type": "markdown",
      "metadata": {
        "id": "s_QLz9_jbRZq"
      },
      "source": [
        "# Loading and preparing the MNIST dataset\n",
        "Load the MNIST dataset made available by keras.datasets\n",
        "Verify the amount of system memory available before and after loading the dataset."
      ]
    },
    {
      "cell_type": "code",
      "metadata": {
        "id": "gG83hGyVmijn",
        "colab": {
          "base_uri": "https://localhost:8080/"
        },
        "outputId": "eca70390-c09c-4665-80cc-2f5895dcaf2e"
      },
      "source": [
        "#@title\n",
        "# The MNSIT dataset is ready to be imported from Keras into RAM\n",
        "# Warning: you cannot do that for larger databases (e.g., ImageNet\n",
        "from keras.datasets import mnist\n",
        "# START CODE HERE\n",
        "!free -h\n",
        "(train_images, train_labels), (test_images, test_labels) = mnist.load_data()\n",
        "!free -h\n",
        "print(train_labels.shape)\n",
        "print(train_images.shape)\n",
        "# END CODE HERE"
      ],
      "execution_count": 3,
      "outputs": [
        {
          "output_type": "stream",
          "name": "stdout",
          "text": [
            "               total        used        free      shared  buff/cache   available\n",
            "Mem:            12Gi       919Mi       9.4Gi       1.0Mi       2.4Gi        11Gi\n",
            "Swap:             0B          0B          0B\n",
            "Downloading data from https://storage.googleapis.com/tensorflow/tf-keras-datasets/mnist.npz\n",
            "11490434/11490434 [==============================] - 1s 0us/step\n",
            "               total        used        free      shared  buff/cache   available\n",
            "Mem:            12Gi       991Mi       9.3Gi       1.0Mi       2.4Gi        11Gi\n",
            "Swap:             0B          0B          0B\n",
            "(60000,)\n",
            "(60000, 28, 28)\n"
          ]
        }
      ]
    },
    {
      "cell_type": "markdown",
      "metadata": {
        "id": "tqtZCOxcDS0U"
      },
      "source": [
        "Turn train and test labels to one-hot encoding"
      ]
    },
    {
      "cell_type": "code",
      "metadata": {
        "id": "lQbkllF8mnaf"
      },
      "source": [
        "# Turning the lables into one-hot format\n",
        "from keras.utils import to_categorical\n",
        "# START CODE HERE\n",
        "train_labels = to_categorical(train_labels)\n",
        "test_labels = to_categorical(test_labels)\n",
        "# END CODE HERE"
      ],
      "execution_count": 5,
      "outputs": []
    },
    {
      "cell_type": "markdown",
      "metadata": {
        "id": "sTSbzJ8zDi0b"
      },
      "source": [
        "Reshape train and test images so that they follow the NWHC ordering required by the TF backend. Then, after casting the pixels to floats, normalize the images so that they have zero-mean and unitary deviation"
      ]
    },
    {
      "cell_type": "code",
      "metadata": {
        "id": "ptTRSDo5nJyZ",
        "colab": {
          "base_uri": "https://localhost:8080/"
        },
        "outputId": "f6dfd1a2-e825-47ea-a3e8-e2896b9a59fb"
      },
      "source": [
        "# Reshaping the images to NWHC scheme\n",
        "img_rows, img_cols = train_images.shape[1], train_images.shape[2]\n",
        "\n",
        "# START CODE HERE\n",
        "train_images = train_images.reshape(train_images.shape[0], img_rows, img_cols, 1)\n",
        "test_images = test_images.reshape(test_images.shape[0], img_rows, img_cols, 1)\n",
        "# END CODE HERE\n",
        "\n",
        "# Cast pixels from uint8 to float32\n",
        "train_images = train_images.astype('float32')\n",
        "test_images = test_images.astype('float32')\n",
        "\n",
        "# Now let us normalize the images so that they have zero mean and standard deviation\n",
        "# Hint: are real testing data statistics known at training time ?\n",
        "# START CODE HERE\n",
        "mean = train_images.mean()\n",
        "std = train_images.std()\n",
        "train_images = (train_images - mean) / std\n",
        "test_images = (test_images - mean) / std\n",
        "\n",
        "# Print the shape of the reshaped and normalized images\n",
        "print(\"Shape of train_images:\", train_images.shape)\n",
        "print(\"Shape of test_images:\", test_images.shape)\n",
        "# END CODE HERE"
      ],
      "execution_count": 7,
      "outputs": [
        {
          "output_type": "stream",
          "name": "stdout",
          "text": [
            "Shape of train_images: (60000, 28, 28, 1)\n",
            "Shape of test_images: (10000, 28, 28, 1)\n"
          ]
        }
      ]
    },
    {
      "cell_type": "markdown",
      "metadata": {
        "id": "uwm1OFOtc4uU"
      },
      "source": [
        "# Defining the neural network architecture (i.e., the network model)\n",
        "Create a LeNet5-like convolutional neural network taking in input the images as matrices of pixels and suitable to classify each image across 10 different classes."
      ]
    },
    {
      "cell_type": "code",
      "metadata": {
        "id": "Pnd3q1V3nk8v"
      },
      "source": [
        "# The Sequential module is sort of a container for more complex NN elements and\n",
        "# defines a loop-less NN architecture\n",
        "from keras.models import Sequential\n",
        "from keras.layers import Dense, Activation, Flatten, Convolution2D, MaxPooling2D\n",
        "from keras.layers import Conv2D\n",
        "\n",
        "input_shape = (img_rows, img_cols, 1)\n",
        "output_shape = 10\n",
        "\n",
        "# size of pooling area for max pooling\n",
        "pool_size = (2, 2)\n",
        "# convolution kernel size\n",
        "kernel_size = (5, 5)\n",
        "# Number of filters in first convolutional layer\n",
        "num_kernel_first_conv_layer = 6\n",
        "# Number of filters in second convolutional layer\n",
        "num_kernel_second_conv_layer = 16\n",
        "\n",
        "# START CODE HERE\n",
        "model = Sequential()\n",
        "\n",
        "model.add(Conv2D(filters = num_kernel_first_conv_layer,\n",
        "                 kernel_size = kernel_size,\n",
        "                 input_shape = input_shape,\n",
        "                 padding = 'same',\n",
        "                 data_format = 'channels_last'))\n",
        "model.add(Activation('relu'))\n",
        "model.add(MaxPooling2D(pool_size = pool_size))\n",
        "\n",
        "model.add(Conv2D(filters = num_kernel_second_conv_layer,\n",
        "                 kernel_size = kernel_size,\n",
        "                 input_shape = input_shape,\n",
        "                 padding = 'same',\n",
        "                 data_format = 'channels_last'))\n",
        "model.add(Activation('relu'))\n",
        "model.add(MaxPooling2D(pool_size = pool_size))\n",
        "\n",
        "model.add(Flatten(input_shape = input_shape))\n",
        "\n",
        "model.add(Dense(100))\n",
        "model.add(Activation('relu'))\n",
        "\n",
        "model.add(Dense(output_shape))\n",
        "model.add(Activation('softmax'))\n",
        "\n",
        "# END CODE HERE"
      ],
      "execution_count": 35,
      "outputs": []
    },
    {
      "cell_type": "markdown",
      "metadata": {
        "id": "3_QEHUznSMyY"
      },
      "source": [
        "Instantiate a SGD optimizer with a tentative LR of 10^-2 and using the appropriate loss function and compile the model."
      ]
    },
    {
      "cell_type": "code",
      "metadata": {
        "id": "ParUs_WKSNmZ",
        "colab": {
          "base_uri": "https://localhost:8080/"
        },
        "outputId": "9cb340be-50be-4ed0-cb74-9d2bc3549c67"
      },
      "source": [
        "# The optimizers module provides a number of optimization algorithms for updating\n",
        "# a netwok parameters accoridng to the computed error gradints\n",
        "from keras import optimizers\n",
        "\n",
        "# START CODE HERE\n",
        "optimizer=tf.keras.optimizers.SGD(learning_rate=1e-2)\n",
        "\n",
        "model.compile(optimizer=optimizer, loss='categorical_crossentropy', metrics=['accuracy'])\n",
        "\n",
        "# END CODE HERE\n",
        "# We can now have a look at the defined model topology\n",
        "model.summary()"
      ],
      "execution_count": 36,
      "outputs": [
        {
          "output_type": "stream",
          "name": "stdout",
          "text": [
            "Model: \"sequential_5\"\n",
            "_________________________________________________________________\n",
            " Layer (type)                Output Shape              Param #   \n",
            "=================================================================\n",
            " conv2d_9 (Conv2D)           (None, 28, 28, 6)         156       \n",
            "                                                                 \n",
            " activation_16 (Activation)  (None, 28, 28, 6)         0         \n",
            "                                                                 \n",
            " max_pooling2d_8 (MaxPoolin  (None, 14, 14, 6)         0         \n",
            " g2D)                                                            \n",
            "                                                                 \n",
            " conv2d_10 (Conv2D)          (None, 14, 14, 16)        2416      \n",
            "                                                                 \n",
            " activation_17 (Activation)  (None, 14, 14, 16)        0         \n",
            "                                                                 \n",
            " max_pooling2d_9 (MaxPoolin  (None, 7, 7, 16)          0         \n",
            " g2D)                                                            \n",
            "                                                                 \n",
            " flatten_4 (Flatten)         (None, 784)               0         \n",
            "                                                                 \n",
            " dense_8 (Dense)             (None, 100)               78500     \n",
            "                                                                 \n",
            " activation_18 (Activation)  (None, 100)               0         \n",
            "                                                                 \n",
            " dense_9 (Dense)             (None, 10)                1010      \n",
            "                                                                 \n",
            " activation_19 (Activation)  (None, 10)                0         \n",
            "                                                                 \n",
            "=================================================================\n",
            "Total params: 82082 (320.63 KB)\n",
            "Trainable params: 82082 (320.63 KB)\n",
            "Non-trainable params: 0 (0.00 Byte)\n",
            "_________________________________________________________________\n"
          ]
        }
      ]
    },
    {
      "cell_type": "markdown",
      "source": [
        "# Training the network - fit()"
      ],
      "metadata": {
        "id": "GZjKqhNjM0cX"
      }
    },
    {
      "cell_type": "code",
      "source": [
        "# This is where the actual training-testing happens\n",
        "# Dimension of the batch size (number of images over which error gradients are averaged)\n",
        "batch_size = 20\n",
        "# Number of epochs we want to train\n",
        "epochs = 10\n",
        "# We restrict the training to 10k images to cut time\n",
        "history = model.fit(train_images, train_labels,\n",
        "            batch_size=batch_size, epochs=epochs,\n",
        "            verbose=1, shuffle=True, validation_data=(test_images, test_labels))"
      ],
      "metadata": {
        "id": "HNGl2cKXM1_C",
        "colab": {
          "base_uri": "https://localhost:8080/"
        },
        "outputId": "36d89b86-01a0-49ab-8489-1213fa7902e6"
      },
      "execution_count": 16,
      "outputs": [
        {
          "output_type": "stream",
          "name": "stdout",
          "text": [
            "Epoch 1/10\n",
            "3000/3000 [==============================] - 13s 4ms/step - loss: 2.2815 - accuracy: 0.1543 - val_loss: 2.1941 - val_accuracy: 0.4174\n",
            "Epoch 2/10\n",
            "3000/3000 [==============================] - 12s 4ms/step - loss: 1.4934 - accuracy: 0.6270 - val_loss: 0.8138 - val_accuracy: 0.8091\n",
            "Epoch 3/10\n",
            "3000/3000 [==============================] - 13s 4ms/step - loss: 0.6117 - accuracy: 0.8437 - val_loss: 0.4586 - val_accuracy: 0.8807\n",
            "Epoch 4/10\n",
            "3000/3000 [==============================] - 12s 4ms/step - loss: 0.4065 - accuracy: 0.8886 - val_loss: 0.3411 - val_accuracy: 0.9067\n",
            "Epoch 5/10\n",
            "3000/3000 [==============================] - 17s 6ms/step - loss: 0.3219 - accuracy: 0.9085 - val_loss: 0.2793 - val_accuracy: 0.9202\n",
            "Epoch 6/10\n",
            "3000/3000 [==============================] - 16s 5ms/step - loss: 0.2733 - accuracy: 0.9207 - val_loss: 0.2446 - val_accuracy: 0.9296\n",
            "Epoch 7/10\n",
            "3000/3000 [==============================] - 17s 6ms/step - loss: 0.2402 - accuracy: 0.9295 - val_loss: 0.2170 - val_accuracy: 0.9355\n",
            "Epoch 8/10\n",
            "3000/3000 [==============================] - 12s 4ms/step - loss: 0.2151 - accuracy: 0.9362 - val_loss: 0.1929 - val_accuracy: 0.9428\n",
            "Epoch 9/10\n",
            "3000/3000 [==============================] - 12s 4ms/step - loss: 0.1956 - accuracy: 0.9423 - val_loss: 0.1764 - val_accuracy: 0.9476\n",
            "Epoch 10/10\n",
            "3000/3000 [==============================] - 14s 5ms/step - loss: 0.1797 - accuracy: 0.9473 - val_loss: 0.1631 - val_accuracy: 0.9499\n"
          ]
        }
      ]
    },
    {
      "cell_type": "markdown",
      "metadata": {
        "id": "_AWUAW4idF3D"
      },
      "source": [
        "# Training the network - train_on_batch()\n",
        "Train the model for 10 epochs using the train_on_batch() and test_on_batch() methods, manually cycling through generations and batches od samples.\n",
        "Hint 1: instantiate a ImageDataGenerator() to get an iterator over the samples.\n",
        "Hint 2: store the per-epoch test and train loss and accuracy to plot them later on."
      ]
    },
    {
      "cell_type": "code",
      "metadata": {
        "id": "gTHrbb7uFYWz",
        "colab": {
          "base_uri": "https://localhost:8080/"
        },
        "outputId": "44ef9a8e-3b23-4b02-f4c8-c22f601d2bb5"
      },
      "source": [
        "# This is where the actual training-testing happens\n",
        "# Dimension of the batch size (number of images over which error gradients are averaged)\n",
        "batch_size = 100\n",
        "# Number of epochs we want to train\n",
        "epochs = 10\n",
        "\n",
        "#For being able to plot the training history afterwards\n",
        "history = {}\n",
        "history['loss'] = []\n",
        "history['val_loss'] = []\n",
        "history['acc'] = []\n",
        "history['val_acc'] = []\n",
        "\n",
        "# Creating a batch preprocessor for augmenting the trainig data\n",
        "from keras.preprocessing.image import ImageDataGenerator\n",
        "# START CODE HERE\n",
        "myDatagen = ImageDataGenerator(rotation_range=0,\n",
        "                               width_shift_range=0,\n",
        "                               height_shift_range=0,\n",
        "                               horizontal_flip=False,\n",
        "                               vertical_flip=False)\n",
        "batchSize = 32\n",
        "# END CODE HERE\n",
        "\n",
        "# Cycling through the epochs\n",
        "for e in range(epochs):\n",
        "    lossEpochTrain = 0\n",
        "    lossEpochTest = 0\n",
        "    accuracyEpochTrain = 0\n",
        "    accuracyEpochTest = 0\n",
        "\n",
        "    # Training over the training samlpes, batch by batch\n",
        "    batchCntTrain = 0\n",
        "    for images_batch, labels_batch in myDatagen.flow(train_images, train_labels, batch_size=batch_size):\n",
        "        # START CODE HERE\n",
        "        lossEpochTrainl, accuracyEpochTrainl = model.train_on_batch(images_batch, labels_batch)\n",
        "        lossEpochTrain += lossEpochTrainl\n",
        "        accuracyEpochTrain += accuracyEpochTrainl\n",
        "        batchCntTrain += 1\n",
        "        if batchCntTrain >= len(train_images) / batchSize:\n",
        "          break\n",
        "        # END CODE HERE\n",
        "\n",
        "    # Testing over the training samlpes, batch by batch\n",
        "    batchCntTest = 0\n",
        "    for images_batch, labels_batch in myDatagen.flow(test_images, test_labels, batch_size=batch_size):\n",
        "        # START CODE HERE\n",
        "        lossEpochTestl, accuracyEpochTestl = model.train_on_batch(images_batch, labels_batch)\n",
        "        lossEpochTest += lossEpochTestl\n",
        "        accuracyEpochTest += accuracyEpochTestl\n",
        "        batchCntTest += 1\n",
        "        if batchCntTest >= len(test_images) / batchSize:\n",
        "          break\n",
        "        # END CODE HERE\n",
        "\n",
        "    print ('Epoch %d / %d lossTrain %.3f lossTest %.3f accuracyTrain %.3f accuracyTest %.3f' %(int(e), epochs, lossEpochTrain/batchCntTrain, lossEpochTest/batchCntTest, accuracyEpochTrain/batchCntTrain, accuracyEpochTest/batchCntTest))\n",
        "    history['loss'].append(lossEpochTrain/batchCntTrain)\n",
        "    history['val_loss'].append(lossEpochTest/batchCntTest)\n",
        "    history['acc'].append(accuracyEpochTrain/batchCntTrain)\n",
        "    history['val_acc'].append(accuracyEpochTest/batchCntTest)"
      ],
      "execution_count": 37,
      "outputs": [
        {
          "output_type": "stream",
          "name": "stdout",
          "text": [
            "Epoch 0 / 10 lossTrain 0.257 lossTest 0.073 accuracyTrain 0.923 accuracyTest 0.977\n",
            "Epoch 1 / 10 lossTrain 0.074 lossTest 0.045 accuracyTrain 0.977 accuracyTest 0.986\n",
            "Epoch 2 / 10 lossTrain 0.054 lossTest 0.034 accuracyTrain 0.984 accuracyTest 0.989\n",
            "Epoch 3 / 10 lossTrain 0.043 lossTest 0.028 accuracyTrain 0.987 accuracyTest 0.991\n",
            "Epoch 4 / 10 lossTrain 0.035 lossTest 0.024 accuracyTrain 0.989 accuracyTest 0.992\n",
            "Epoch 5 / 10 lossTrain 0.030 lossTest 0.020 accuracyTrain 0.991 accuracyTest 0.994\n",
            "Epoch 6 / 10 lossTrain 0.026 lossTest 0.017 accuracyTrain 0.992 accuracyTest 0.995\n",
            "Epoch 7 / 10 lossTrain 0.022 lossTest 0.015 accuracyTrain 0.993 accuracyTest 0.995\n",
            "Epoch 8 / 10 lossTrain 0.020 lossTest 0.013 accuracyTrain 0.994 accuracyTest 0.996\n",
            "Epoch 9 / 10 lossTrain 0.017 lossTest 0.011 accuracyTrain 0.995 accuracyTest 0.997\n"
          ]
        }
      ]
    },
    {
      "cell_type": "markdown",
      "metadata": {
        "id": "ODUc5Bq_dMEq"
      },
      "source": [
        "# Visualizing the network performance\n",
        "Visualize the training history using the pyplot package: plot in one graph the train and vaidation loss functions, in another graph the train and validation accuracy"
      ]
    },
    {
      "cell_type": "code",
      "metadata": {
        "id": "QdJrRbyariEw",
        "colab": {
          "base_uri": "https://localhost:8080/",
          "height": 927
        },
        "outputId": "b01c847b-6616-4c1f-9449-cb24a04d0770"
      },
      "source": [
        "# We now want to plot the train and validation loss functions and accuracy curves\n",
        "from matplotlib import pyplot as plt\n",
        "# summarize history for loss\n",
        "# START CODE HERE\n",
        "plt.semilogy(history['loss'])\n",
        "plt.semilogy(history['val_loss'])\n",
        "plt.title('Model Loss')\n",
        "plt.ylabel('Loss')\n",
        "plt.ylim(top=3)\n",
        "plt.xlabel('Epoch')\n",
        "plt.xlim(left=0)\n",
        "plt.xlim(right=10)\n",
        "plt.legend(['train', 'test'], loc='upper right')\n",
        "# END CODE HERE\n",
        "plt.show()\n",
        "\n",
        "# summarize history for accuracy\n",
        "# START CODE HERE\n",
        "plt.semilogy(history['acc'])\n",
        "plt.semilogy(history['val_acc'])\n",
        "plt.title('Model Accuracy')\n",
        "plt.ylabel('Accuracy')\n",
        "plt.ylim(top=1)\n",
        "plt.xlabel('Epoch')\n",
        "plt.xlim(left=0)\n",
        "plt.xlim(right=10)\n",
        "plt.legend(['train', 'test'], loc='lower right')\n",
        "# END CODE HERE\n",
        "plt.show()\n"
      ],
      "execution_count": 38,
      "outputs": [
        {
          "output_type": "display_data",
          "data": {
            "text/plain": [
              "<Figure size 640x480 with 1 Axes>"
            ],
            "image/png": "[encoded data removed]"
          },
          "metadata": {}
        },
        {
          "output_type": "display_data",
          "data": {
            "text/plain": [
              "<Figure size 640x480 with 1 Axes>"
            ],
            "image/png": "[encoded data removed]"
          },
          "metadata": {}
        }
      ]
    },
    {
      "cell_type": "markdown",
      "metadata": {
        "id": "Nr4TdWoEoDzi"
      },
      "source": [
        "# Experiments\n",
        "\n",
        "Note down the performance of the trained network in terms of training and validation accuracy as a reference. Then, experiment as follow and compare performance with the reference scenario.\n",
        "\n",
        "*   **Hidden layers activations**: experiment replacing sigmoids with ReLUs.\n",
        "*   **Filter size**: experiment with (stacks of) square filters of size 3x3 so to obtain equivalent filters 5x5.\n",
        "*   **Number of filters**: experiment increasing the number of filters in the first and second layer and find the maximum number of filters the network can tolerate before overfitting to the training samples.\n",
        "* **Pooling-less architectures**: Modify the network architecture to obtain a twofold reduction of each featuremap without resorting to pooling layers (hint: take insipiration from ResNet).\n",
        "* **Confusion analysis**: Using the proper metric  from sklearn, check which character is most frequently confused with which: can you explain why ? 2 and 7, 4 and 9 are the most confused digits, maybe cause of the similar shape they have\n",
        "\n"
      ]
    },
    {
      "cell_type": "code",
      "metadata": {
        "id": "r0C1J6R1Elfc",
        "colab": {
          "base_uri": "https://localhost:8080/"
        },
        "outputId": "5c1608ff-c992-4f78-eeb0-d0d0770bd474"
      },
      "source": [
        "# Example of a confusion matrix using sklearn.metrics\n",
        "from sklearn.metrics import confusion_matrix\n",
        "predictions = model.predict(test_images)\n",
        "# START CODE HERE\n",
        "# Mind that confusion_matrix requires\n",
        "matrix = confusion_matrix(test_labels.argmax(axis=1), predictions.argmax(axis=1))\n",
        "print (matrix)\n",
        "# END CODE HERE"
      ],
      "execution_count": 39,
      "outputs": [
        {
          "output_type": "stream",
          "name": "stdout",
          "text": [
            "313/313 [==============================] - 1s 2ms/step\n",
            "[[ 979    0    0    0    0    0    0    1    0    0]\n",
            " [   0 1135    0    0    0    0    0    0    0    0]\n",
            " [   0    0 1031    0    0    0    0    1    0    0]\n",
            " [   0    0    0 1008    0    1    0    0    1    0]\n",
            " [   0    0    0    0  982    0    0    0    0    0]\n",
            " [   0    0    0    0    0  891    1    0    0    0]\n",
            " [   1    1    0    0    0    0  956    0    0    0]\n",
            " [   0    0    0    0    0    0    0 1028    0    0]\n",
            " [   0    0    0    0    0    0    0    0  973    1]\n",
            " [   0    0    0    0    1    0    0    2    0 1006]]\n"
          ]
        }
      ]
    },
    {
      "cell_type": "markdown",
      "metadata": {
        "id": "Oh_WVRm_fMXP"
      },
      "source": [
        "#Saving the training results\n",
        "\n",
        "Save the best trained model (topology, parameters), and all the related side information required to deploy the trained model later on."
      ]
    },
    {
      "cell_type": "code",
      "metadata": {
        "id": "cbJCJZ3mfOYu",
        "colab": {
          "base_uri": "https://localhost:8080/"
        },
        "outputId": "b1260f86-d2ec-41a6-bce1-8063236eea2a"
      },
      "source": [
        "# Create a directory for saving both the trained model and side information\n",
        "import os\n",
        "import csv\n",
        "\n",
        "save_dir = os.path.join(os.getcwd(), 'trained_lenet5_mnist')\n",
        "if not os.path.isdir(save_dir):\n",
        "    os.makedirs(save_dir)\n",
        "\n",
        "# Save model and weights\n",
        "# START CODE HERE\n",
        "model_name = 'trained_model.h5'\n",
        "model.save(save_dir)\n",
        "# END CODE HERE\n",
        "print('Saved trained model at %s ' % save_dir)\n",
        "\n",
        "# Saving mean and standard deviation information as a CSV file\n",
        "model_param_file = 'mean_std.csv'\n",
        "# START CODE HERE\n",
        "with open(save_dir + \"/\" + model_param_file, 'w', newline = '') as csvfile:\n",
        "    csv_writer = csv.writer(csvfile)\n",
        "    # Write the header\n",
        "    csv_writer.writerow([\"Set Mean\", \"Set Standard Deviation\"])\n",
        "    # Write the row\n",
        "    csv_writer.writerow([train_images.mean(), train_images.std()])\n",
        "# END CODE HERE\n",
        "print('Saved side information at %s ' % save_dir)"
      ],
      "execution_count": 30,
      "outputs": [
        {
          "output_type": "stream",
          "name": "stdout",
          "text": [
            "Saved trained model at /content/trained_lenet5_mnist \n",
            "Saved side information at /content/trained_lenet5_mnist \n"
          ]
        }
      ]
    }
  ]
}