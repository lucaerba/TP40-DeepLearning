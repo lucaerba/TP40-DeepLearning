{
  "nbformat": 4,
  "nbformat_minor": 0,
  "metadata": {
    "colab": {
      "name": "LeNet300_empty.ipynb",
      "provenance": [],
      "history_visible": true
    },
    "kernelspec": {
      "name": "python3",
      "display_name": "Python 3"
    },
    "accelerator": "GPU"
  },
  "cells": [
    {
      "cell_type": "markdown",
      "metadata": {
        "id": "iafPdtuncbq7"
      },
      "source": [
        "<h2><center>MNIST classification using <i>LeNet300</i></center></h2>\n"
      ]
    },
    {
      "cell_type": "markdown",
      "metadata": {
        "id": "I4VrCB5La5rD"
      },
      "source": [
        "# Importing Keras"
      ]
    },
    {
      "cell_type": "code",
      "metadata": {
        "id": "OlKZ3Hnas7B4",
        "outputId": "ec01f73c-8bbc-4850-ce9a-47de498988f0",
        "colab": {
          "base_uri": "https://localhost:8080/"
        }
      },
      "source": [
        "# Importing the Keras 2.x main module relying on tensorflow 2.x backend\n",
        "import tensorflow as tf\n",
        "import keras\n",
        "print(\"Using tensorflow version \" + str(tf.__version__))\n",
        "print(\"Using keras version \" + str(keras.__version__))"
      ],
      "execution_count": 1,
      "outputs": [
        {
          "output_type": "stream",
          "name": "stdout",
          "text": [
            "Using tensorflow version 2.14.0\n",
            "Using keras version 2.14.0\n"
          ]
        }
      ]
    },
    {
      "cell_type": "markdown",
      "metadata": {
        "id": "s_QLz9_jbRZq"
      },
      "source": [
        "# Loading and preparing the MNIST dataset\n",
        "Load the MNIST dataset made available by keras.datasets\n",
        "Verify the amount of system memory available before and after loading the dataset."
      ]
    },
    {
      "cell_type": "code",
      "metadata": {
        "id": "gG83hGyVmijn",
        "outputId": "deada272-0090-42a0-89af-56d47a5d20d7",
        "colab": {
          "base_uri": "https://localhost:8080/"
        }
      },
      "source": [
        "#@title\n",
        "# The MNSIT dataset is ready to be imported from Keras into RAM\n",
        "from keras.datasets import mnist\n",
        "# START CODE HERE\n",
        "!free -h\n",
        "(train_images, train_labels), (test_images, test_labels) = mnist.load_data()\n",
        "!free -h\n",
        "print(train_labels.shape)\n",
        "print(train_images.shape)\n",
        "# END CODE HERE"
      ],
      "execution_count": 2,
      "outputs": [
        {
          "output_type": "stream",
          "name": "stdout",
          "text": [
            "               total        used        free      shared  buff/cache   available\n",
            "Mem:            12Gi       819Mi       7.9Gi        26Mi       3.9Gi        11Gi\n",
            "Swap:             0B          0B          0B\n",
            "               total        used        free      shared  buff/cache   available\n",
            "Mem:            12Gi       886Mi       7.9Gi        26Mi       3.9Gi        11Gi\n",
            "Swap:             0B          0B          0B\n",
            "(60000,)\n",
            "(60000, 28, 28)\n"
          ]
        }
      ]
    },
    {
      "cell_type": "markdown",
      "metadata": {
        "id": "gRPbU_Z4U6Ac"
      },
      "source": [
        "Using the pyplot package, visualize the fist sample of the training set"
      ]
    },
    {
      "cell_type": "code",
      "metadata": {
        "id": "x5VAu7oW0Zu4",
        "outputId": "41936fa5-61a5-4ad0-b960-2f1066ac73ed",
        "colab": {
          "base_uri": "https://localhost:8080/",
          "height": 452
        }
      },
      "source": [
        "# Let us visualize the first training sample using the Gnuplot library\n",
        "from matplotlib import pyplot as plt\n",
        "# START CODE HERE\n",
        "def test():\n",
        "  plt.imshow(train_images[0], cmap='gray')  # Assuming grayscale images\n",
        "  plt.title(f\"Label: {train_labels[0]}\")  # Assuming labels are available\n",
        "  plt.show()\n",
        "test()\n",
        "# END CODE HERE"
      ],
      "execution_count": 3,
      "outputs": [
        {
          "output_type": "display_data",
          "data": {
            "text/plain": [
              "<Figure size 640x480 with 1 Axes>"
            ],
            "image/png": "[encoded data removed]"
          },
          "metadata": {}
        }
      ]
    },
    {
      "cell_type": "markdown",
      "metadata": {
        "id": "s7YsRekMVDg-"
      },
      "source": [
        "Turn train and test labels to one-hot encoding"
      ]
    },
    {
      "cell_type": "code",
      "metadata": {
        "id": "lQbkllF8mnaf"
      },
      "source": [
        "from keras.utils import to_categorical\n",
        "# START CODE HERE\n",
        "train_labels = to_categorical(train_labels)\n",
        "test_labels = to_categorical(test_labels)\n",
        "# END CODE HERE"
      ],
      "execution_count": 4,
      "outputs": []
    },
    {
      "cell_type": "markdown",
      "metadata": {
        "id": "0jv29YLtVO3q"
      },
      "source": [
        "Reshape train and test images so that they follow the NWHC ordering required by the TF backend.\n",
        "Then, after casting the pixels to floats, normalize the images so that they have zero-mean and unitary deviation"
      ]
    },
    {
      "cell_type": "code",
      "metadata": {
        "id": "ptTRSDo5nJyZ",
        "outputId": "df779e81-3d67-4bf4-fd8e-b3ee69021300",
        "colab": {
          "base_uri": "https://localhost:8080/"
        }
      },
      "source": [
        "import numpy as np\n",
        "# Reshape to proper images with 1 color channel according to backend scheme\n",
        "\n",
        "# START CODE HERE\n",
        "print(\"Shape of train_images:\", train_images.shape)\n",
        "print(\"Shape of test_images:\", test_images.shape)\n",
        "img_rows, img_cols = train_images.shape[1], train_images.shape[2]\n",
        "\n",
        "train_images = train_images.reshape(train_images.shape[0], img_rows, img_cols, 1)\n",
        "test_images = test_images.reshape(test_images.shape[0], img_rows, img_cols, 1)\n",
        "# END CODE HERE\n",
        "\n",
        "# Cast pixels from uint8 to float32\n",
        "train_images = train_images.astype('float32')\n",
        "test_images = test_images.astype('float32')\n",
        "\n",
        "# Now let us normalize the images so that they have zero mean and standard deviation\n",
        "# Hint: testing data statistics known at training time ?\n",
        "# START CODE HERE\n",
        "\n",
        "# Normalize the images to have zero-mean and unitary deviation\n",
        "mean = np.mean(train_images)\n",
        "std = np.std(train_images)\n",
        "train_images = (train_images - mean) / std\n",
        "test_images = (test_images - mean) / std\n",
        "\n",
        "# Print the shape of the reshaped and normalized images\n",
        "print(\"Shape of train_images:\", train_images.shape)\n",
        "print(\"Shape of test_images:\", test_images.shape)\n",
        "# END CODE HERE"
      ],
      "execution_count": 5,
      "outputs": [
        {
          "output_type": "stream",
          "name": "stdout",
          "text": [
            "Shape of train_images: (60000, 28, 28)\n",
            "Shape of test_images: (10000, 28, 28)\n",
            "Shape of train_images: (60000, 28, 28, 1)\n",
            "Shape of test_images: (10000, 28, 28, 1)\n"
          ]
        }
      ]
    },
    {
      "cell_type": "markdown",
      "metadata": {
        "id": "uwm1OFOtc4uU"
      },
      "source": [
        "# Defining the neural network architecture (i.e., the network model)"
      ]
    },
    {
      "cell_type": "markdown",
      "metadata": {
        "id": "lnKYaP-KVoOs"
      },
      "source": [
        "Create a LeNet300-like fully connected network taking in input the images as vectors of pixels and suitable to classify each image across 10 different classes. For this first implementation of the network, use only sigmoid activations in the hidden layer. Which activation function shall be used for the output layer ?"
      ]
    },
    {
      "cell_type": "code",
      "metadata": {
        "id": "Pnd3q1V3nk8v",
        "outputId": "19c11e94-0aef-40f6-9902-061099499e1a",
        "colab": {
          "base_uri": "https://localhost:8080/"
        }
      },
      "source": [
        "# The Sequential module is a container for more complex NN elements and\n",
        "# defines a loop-less NN architecture\n",
        "from keras.models import Sequential\n",
        "from keras.layers import Dense, Activation, Flatten\n",
        "\n",
        "# START CODE HERE\n",
        "input_shape = (img_rows, img_cols, 1)\n",
        "output_shape = 10\n",
        "\n",
        "model = Sequential()\n",
        "\n",
        "model.add(Flatten(input_shape = input_shape))\n",
        "model.add(Dense(300, activation='sigmoid'))\n",
        "model.add(Dense(100, activation='sigmoid'))\n",
        "model.add(Dense(output_shape, activation='softmax')) #output 10 digit\n",
        "\n",
        "model.summary()\n",
        "# END CODE HERE"
      ],
      "execution_count": 6,
      "outputs": [
        {
          "output_type": "stream",
          "name": "stdout",
          "text": [
            "Model: \"sequential\"\n",
            "_________________________________________________________________\n",
            " Layer (type)                Output Shape              Param #   \n",
            "=================================================================\n",
            " flatten (Flatten)           (None, 784)               0         \n",
            "                                                                 \n",
            " dense (Dense)               (None, 300)               235500    \n",
            "                                                                 \n",
            " dense_1 (Dense)             (None, 100)               30100     \n",
            "                                                                 \n",
            " dense_2 (Dense)             (None, 10)                1010      \n",
            "                                                                 \n",
            "=================================================================\n",
            "Total params: 266610 (1.02 MB)\n",
            "Trainable params: 266610 (1.02 MB)\n",
            "Non-trainable params: 0 (0.00 Byte)\n",
            "_________________________________________________________________\n"
          ]
        }
      ]
    },
    {
      "cell_type": "markdown",
      "metadata": {
        "id": "7g2PNEiwWBLw"
      },
      "source": [
        "Instantiate a SGD optimizer with a tentative LR of 10^-4 and using the appropriate loss function and compile the model."
      ]
    },
    {
      "cell_type": "code",
      "metadata": {
        "id": "SijGZGKjV9J2",
        "outputId": "85056090-eefd-489f-c26b-c14a4f2a1c4a",
        "colab": {
          "base_uri": "https://localhost:8080/"
        }
      },
      "source": [
        "# The optimizers module provides a number of optimization algorithms for updating\n",
        "# a netwok parameters accoridng to the computed error gradints\n",
        "# START CODE HERE\n",
        "optimizer=tf.keras.optimizers.SGD(learning_rate=1e-2)\n",
        "\n",
        "# Compiling a model in Keras amounts to associating th eoptimizer to a model with an appropriate loss function\n",
        "model.compile(optimizer=optimizer, loss='categorical_crossentropy', metrics=['accuracy'])\n",
        "# END CODE HERE\n",
        "# We can now have a look at the defined model topology\n",
        "model.summary()"
      ],
      "execution_count": 7,
      "outputs": [
        {
          "output_type": "stream",
          "name": "stdout",
          "text": [
            "Model: \"sequential\"\n",
            "_________________________________________________________________\n",
            " Layer (type)                Output Shape              Param #   \n",
            "=================================================================\n",
            " flatten (Flatten)           (None, 784)               0         \n",
            "                                                                 \n",
            " dense (Dense)               (None, 300)               235500    \n",
            "                                                                 \n",
            " dense_1 (Dense)             (None, 100)               30100     \n",
            "                                                                 \n",
            " dense_2 (Dense)             (None, 10)                1010      \n",
            "                                                                 \n",
            "=================================================================\n",
            "Total params: 266610 (1.02 MB)\n",
            "Trainable params: 266610 (1.02 MB)\n",
            "Non-trainable params: 0 (0.00 Byte)\n",
            "_________________________________________________________________\n"
          ]
        }
      ]
    },
    {
      "cell_type": "markdown",
      "metadata": {
        "id": "_AWUAW4idF3D"
      },
      "source": [
        "# Training the network"
      ]
    },
    {
      "cell_type": "markdown",
      "metadata": {
        "id": "u-WqMtSAWTRp"
      },
      "source": [
        "Train the model for 10 epochs using the fit() method, without batch training initially validating the model at each epoch and keeping track of the training history for later plotting. Make sure you enable fit() verbose mode for interactive output."
      ]
    },
    {
      "cell_type": "code",
      "metadata": {
        "id": "gTHrbb7uFYWz",
        "outputId": "ed483fd7-5c0b-4955-fa2a-f989d1e7bcf0",
        "colab": {
          "base_uri": "https://localhost:8080/"
        }
      },
      "source": [
        "# This is where the actual training-testing happens\n",
        "# Number of epochs we want to train\n",
        "epochs = 10\n",
        "\n",
        "# START CODE HERE\n",
        "batch_size = 32\n",
        "history = model.fit(train_images, train_labels,\n",
        "            batch_size=batch_size, epochs=epochs,\n",
        "            verbose=1, shuffle=True, validation_data=(test_images, test_labels))\n",
        "# END CODE HERE"
      ],
      "execution_count": 8,
      "outputs": [
        {
          "output_type": "stream",
          "name": "stdout",
          "text": [
            "Epoch 1/10\n",
            "1875/1875 [==============================] - 22s 10ms/step - loss: 1.4618 - accuracy: 0.6920 - val_loss: 0.8081 - val_accuracy: 0.8401\n",
            "Epoch 2/10\n",
            "1875/1875 [==============================] - 17s 9ms/step - loss: 0.6251 - accuracy: 0.8628 - val_loss: 0.4866 - val_accuracy: 0.8855\n",
            "Epoch 3/10\n",
            "1875/1875 [==============================] - 10s 6ms/step - loss: 0.4449 - accuracy: 0.8868 - val_loss: 0.3889 - val_accuracy: 0.8983\n",
            "Epoch 4/10\n",
            "1875/1875 [==============================] - 8s 4ms/step - loss: 0.3764 - accuracy: 0.8981 - val_loss: 0.3422 - val_accuracy: 0.9065\n",
            "Epoch 5/10\n",
            "1875/1875 [==============================] - 8s 4ms/step - loss: 0.3392 - accuracy: 0.9047 - val_loss: 0.3142 - val_accuracy: 0.9132\n",
            "Epoch 6/10\n",
            "1875/1875 [==============================] - 7s 4ms/step - loss: 0.3142 - accuracy: 0.9111 - val_loss: 0.2933 - val_accuracy: 0.9182\n",
            "Epoch 7/10\n",
            "1875/1875 [==============================] - 8s 4ms/step - loss: 0.2954 - accuracy: 0.9154 - val_loss: 0.2781 - val_accuracy: 0.9225\n",
            "Epoch 8/10\n",
            "1875/1875 [==============================] - 7s 4ms/step - loss: 0.2799 - accuracy: 0.9197 - val_loss: 0.2649 - val_accuracy: 0.9275\n",
            "Epoch 9/10\n",
            "1875/1875 [==============================] - 8s 4ms/step - loss: 0.2668 - accuracy: 0.9234 - val_loss: 0.2538 - val_accuracy: 0.9286\n",
            "Epoch 10/10\n",
            "1875/1875 [==============================] - 7s 4ms/step - loss: 0.2552 - accuracy: 0.9267 - val_loss: 0.2443 - val_accuracy: 0.9304\n"
          ]
        }
      ]
    },
    {
      "cell_type": "markdown",
      "metadata": {
        "id": "ODUc5Bq_dMEq"
      },
      "source": [
        "# Visualizing the network performance\n",
        "Visualize the training history using the pyplot package: plot in one graph the train and vaidation loss functions, in another graph the train and validation accuracy. By comparing the training the testing curves, what can we conclude about the quality of the training ?"
      ]
    },
    {
      "cell_type": "code",
      "metadata": {
        "id": "QdJrRbyariEw",
        "outputId": "6bf98e3c-0842-40d0-d987-826a516ad6d0",
        "colab": {
          "base_uri": "https://localhost:8080/",
          "height": 945
        }
      },
      "source": [
        "# We now want to plot the train and validation loss functions and accuracy curves\n",
        "print(history.history.keys())\n",
        "\n",
        "# summarize history for loss\n",
        "# START CODE HERE\n",
        "plt.plot(history.history['loss'])\n",
        "plt.plot(history.history['val_loss'])\n",
        "plt.title('Model Loss')\n",
        "plt.ylabel('Loss')\n",
        "plt.ylim(top=3)\n",
        "plt.ylim(bottom=0)\n",
        "plt.xlabel('Epoch')\n",
        "plt.xlim(left=0)\n",
        "plt.xlim(right=10)\n",
        "plt.legend(['train', 'test'], loc='upper right')\n",
        "# END CODE HERE\n",
        "plt.show()\n",
        "\n",
        "# summarize history for accuracy\n",
        "# START CODE HERE\n",
        "plt.plot(history.history['accuracy'])\n",
        "plt.plot(history.history['val_accuracy'])\n",
        "plt.title('Model Accuracy')\n",
        "plt.ylabel('Accuracy')\n",
        "plt.ylim(top=1)\n",
        "plt.ylim(bottom=0)\n",
        "plt.xlabel('Epoch')\n",
        "plt.xlim(left=0)\n",
        "plt.xlim(right=10)\n",
        "plt.legend(['train', 'test'], loc='lower right')\n",
        "# END CODE HERE\n",
        "plt.show()\n"
      ],
      "execution_count": 9,
      "outputs": [
        {
          "output_type": "stream",
          "name": "stdout",
          "text": [
            "dict_keys(['loss', 'accuracy', 'val_loss', 'val_accuracy'])\n"
          ]
        },
        {
          "output_type": "display_data",
          "data": {
            "text/plain": [
              "<Figure size 640x480 with 1 Axes>"
            ],
            "image/png": "[encoded data removed]"
          },
          "metadata": {}
        },
        {
          "output_type": "display_data",
          "data": {
            "text/plain": [
              "<Figure size 640x480 with 1 Axes>"
            ],
            "image/png": "[encoded data removed]"
          },
          "metadata": {}
        }
      ]
    },
    {
      "cell_type": "markdown",
      "metadata": {
        "id": "X-fHHdqYPGu9"
      },
      "source": [
        "# Computing the confusion matrix\n",
        "The confusion matrix allows to analyze the trained network performance on a per-class basis"
      ]
    },
    {
      "cell_type": "code",
      "metadata": {
        "id": "nXUXVWgLPM4R",
        "outputId": "8b781964-c8f2-45ea-a424-1be2c84e607b",
        "colab": {
          "base_uri": "https://localhost:8080/"
        }
      },
      "source": [
        "# Example of a confusion matrix using sklearn.metrics\n",
        "from sklearn.metrics import confusion_matrix\n",
        "predictions = model.predict(test_images)\n",
        "# Mind that confusion_matrix requires\n",
        "matrix = confusion_matrix(test_labels.argmax(axis=1), predictions.argmax(axis=1))\n",
        "print (matrix)"
      ],
      "execution_count": 10,
      "outputs": [
        {
          "output_type": "stream",
          "name": "stdout",
          "text": [
            "313/313 [==============================] - 1s 2ms/step\n",
            "[[ 963    0    2    2    0    3    8    1    1    0]\n",
            " [   0 1112    2    2    0    2    4    1   12    0]\n",
            " [  13    4  944   11   13    2   13   10   19    3]\n",
            " [   2    1   19  937    0   18    3   14   10    6]\n",
            " [   1    4    4    0  930    0   11    2    3   27]\n",
            " [   7    3    3   43    6  781   14    8   19    8]\n",
            " [  13    3    6    1   10    9  912    1    3    0]\n",
            " [   3   10   26    6    7    0    0  943    0   33]\n",
            " [   5    6    7   21   12   25   11   12  864   11]\n",
            " [  12    7    1   10   36    7    1   13    4  918]]\n"
          ]
        }
      ]
    },
    {
      "cell_type": "markdown",
      "metadata": {
        "id": "Nr4TdWoEoDzi"
      },
      "source": [
        "# Experiments\n",
        "\n",
        "Note down the performance of the trained network in terms of training and validation accuracy as a reference (save the loss/accuracy graphs of the trained network).\n",
        "\n",
        "Then,  experiment as follow and compare performance with the reference scenario:\n",
        "\n",
        "*  Experiment increasing the batch size (from purely stochastic case) and compare performance with reference.\n",
        "*  Experiment gradually increasing the learning rate starting from 10^-4 and find a reasonable learning rate value the network can tolerate without diverging.\n",
        "*  Experiment replacing the sigmoid activations with Relus and note what happens.\n",
        "\n",
        "\n",
        "\n",
        "\n"
      ]
    }
  ]
}